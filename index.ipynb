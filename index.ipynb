{
 "cells": [
  {
   "cell_type": "markdown",
   "metadata": {},
   "source": [
    "# Combinations with probabilities"
   ]
  },
  {
   "cell_type": "markdown",
   "metadata": {},
   "source": [
    "## Introduction"
   ]
  },
  {
   "cell_type": "markdown",
   "metadata": {},
   "source": [
    "You've already seen in the previous labs that combinations and permutations don't occur in a vacuum. In this lab, you'll extend your knowledge on combinations by using them along with preset probabilities."
   ]
  },
  {
   "cell_type": "markdown",
   "metadata": {},
   "source": [
    "## Learning objectives"
   ]
  },
  {
   "cell_type": "markdown",
   "metadata": {},
   "source": [
    "In this lab,\n",
    "\n",
    "- You'll get some more practice in on using combinations\n",
    "- You'll learn how to deal with situations where we're looking sequential outcomes with certain probabilities."
   ]
  },
  {
   "cell_type": "markdown",
   "metadata": {},
   "source": [
    "## Let's get started"
   ]
  },
  {
   "cell_type": "markdown",
   "metadata": {},
   "source": [
    "You'll use combinations again in this lab. It'll be useful to reuse the function you created before:"
   ]
  },
  {
   "cell_type": "code",
   "execution_count": 12,
   "metadata": {},
   "outputs": [],
   "source": [
    "def combination(n,k):\n",
    "    combin = factorial(n)/(factorial(n-k)*factorial(k))\n",
    "    return combin\n",
    "\n",
    "def factorial(n):\n",
    "    prod = 1\n",
    "    while n >= 1:\n",
    "        prod = prod * n\n",
    "        n = n - 1\n",
    "    return prod"
   ]
  },
  {
   "cell_type": "markdown",
   "metadata": {},
   "source": [
    "After a long day of coding, the Flatiron School immersive students decide to go to a bowling alley. A bowling game has 10 rounds. The students still have the combinatorics section of the immersive course in mind, and one student is wondering how big the chance is of throwing 3 strikes first, and then no strikes at all for the next seven rounds. Use the python console below to compute this particular probability, assuming that the chance of a throwing a strike is 0.25%."
   ]
  },
  {
   "cell_type": "code",
   "execution_count": 8,
   "metadata": {},
   "outputs": [
    {
     "data": {
      "text/plain": [
       "0.0020856857299804688"
      ]
     },
     "execution_count": 8,
     "metadata": {},
     "output_type": "execute_result"
    }
   ],
   "source": [
    "strikes_order1 = 0.25**3 * 0.75**7 # 0.00208\n",
    "strikes_order1"
   ]
  },
  {
   "cell_type": "markdown",
   "metadata": {},
   "source": [
    "Next, another student is wondering what the chances are of throwing a strike, then no strike for 7 rounds, and then 2 strikes again. calculate the probability below."
   ]
  },
  {
   "cell_type": "code",
   "execution_count": 7,
   "metadata": {},
   "outputs": [
    {
     "data": {
      "text/plain": [
       "0.0020856857299804688"
      ]
     },
     "execution_count": 7,
     "metadata": {},
     "output_type": "execute_result"
    }
   ],
   "source": [
    "strikes_order2 = 0.25 * 0.75**7 * 0.25**2 \n",
    "strikes_order2"
   ]
  },
  {
   "cell_type": "markdown",
   "metadata": {},
   "source": [
    "The pattern should be fairly clear from here on out! Now you'll see how combinations come in handy here. You can use them along with these probabilities. Let's see how this works."
   ]
  },
  {
   "cell_type": "markdown",
   "metadata": {},
   "source": [
    "Let's start with this question: what is the probability that in the course of 10 games you throw exactly 3 strikes?"
   ]
  },
  {
   "cell_type": "code",
   "execution_count": 23,
   "metadata": {},
   "outputs": [
    {
     "data": {
      "text/plain": [
       "0.25028228759765625"
      ]
     },
     "execution_count": 23,
     "metadata": {},
     "output_type": "execute_result"
    }
   ],
   "source": [
    "exactly_3 = combination(10,3) *0.25**3*0.75**7\n",
    "exactly_3"
   ]
  },
  {
   "cell_type": "markdown",
   "metadata": {},
   "source": [
    "Now, students are obviously interested in throwing as many strikes as possible. Someone wants to know what the probability is of throwing 4 or more strikes. What is the best way of calculating this?"
   ]
  },
  {
   "cell_type": "code",
   "execution_count": 35,
   "metadata": {},
   "outputs": [
    {
     "data": {
      "text/plain": [
       "0.3179807662963867"
      ]
     },
     "execution_count": 35,
     "metadata": {},
     "output_type": "execute_result"
    }
   ],
   "source": [
    "exactly_3 = combination(10,3) *0.25**3*0.75**7\n",
    "exactly_2 = combination(10,2)*0.25**2*0.75**8\n",
    "exactly_1 = combination(10,1)*0.25**1*0.75**9\n",
    "exactly_0 = combination(10,0)*0.75**10\n",
    "\n",
    "four_or_more = 1- (exactly_0 +exactly_1+exactly_1+exactly_3)\n",
    "four_or_more"
   ]
  },
  {
   "cell_type": "code",
   "execution_count": 16,
   "metadata": {},
   "outputs": [
    {
     "data": {
      "text/plain": [
       "180.0"
      ]
     },
     "execution_count": 16,
     "metadata": {},
     "output_type": "execute_result"
    }
   ],
   "source": [
    "combination(6,4)*4*3"
   ]
  },
  {
   "cell_type": "code",
   "execution_count": 18,
   "metadata": {},
   "outputs": [
    {
     "data": {
      "text/plain": [
       "90.0"
      ]
     },
     "execution_count": 18,
     "metadata": {},
     "output_type": "execute_result"
    }
   ],
   "source": [
    "factorial(6)/(2*2*2)"
   ]
  },
  {
   "cell_type": "markdown",
   "metadata": {},
   "source": [
    "You have decided to participate in a bowling game. "
   ]
  },
  {
   "cell_type": "markdown",
   "metadata": {},
   "source": [
    "0.25 strike, 0.75 not. \n",
    "\n",
    "- What is the probability that in the course of 10 games you throw exactly 4 strikes.\n",
    "- What is the probability that you have less more than 3 strikes. (complement rule)\n",
    "- 0.25 strike, 0.2 spare, 0.55 everything else: what is the prob that you throw exactly 2 strikes, 3 spares, 5 < spare."
   ]
  },
  {
   "cell_type": "code",
   "execution_count": null,
   "metadata": {},
   "outputs": [],
   "source": []
  }
 ],
 "metadata": {
  "kernelspec": {
   "display_name": "Python 3",
   "language": "python",
   "name": "python3"
  },
  "language_info": {
   "codemirror_mode": {
    "name": "ipython",
    "version": 3
   },
   "file_extension": ".py",
   "mimetype": "text/x-python",
   "name": "python",
   "nbconvert_exporter": "python",
   "pygments_lexer": "ipython3",
   "version": "3.6.4"
  }
 },
 "nbformat": 4,
 "nbformat_minor": 2
}
